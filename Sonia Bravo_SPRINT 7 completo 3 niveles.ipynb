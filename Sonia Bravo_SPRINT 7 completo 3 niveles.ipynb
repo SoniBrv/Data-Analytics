{
 "cells": [
  {
   "cell_type": "markdown",
   "id": "595579c3",
   "metadata": {},
   "source": [
    "Nivell 1 - Exercici 1 SPR7 Calculadora de l'índex de massa corporal\n",
    "\n",
    "Escriu una funció que calculi l'IMC ingressat per l'usuari/ària, és a dir, qui ho executi haurà d'ingressar aquestes dades. Pots obtenir més informació del seu càlcul en:\n",
    "\n",
    "La funció ha de classificar el resultat en les seves respectives categories\n",
    "\n",
    "Bajo peso: menos de 18,5.\n",
    "Peso normal: 18,5-24,9.\n",
    "Sobrepeso: 25-29,9.\n",
    "Obesidad: más de 30."
   ]
  },
  {
   "cell_type": "code",
   "execution_count": 4,
   "id": "b0a795eb",
   "metadata": {},
   "outputs": [
    {
     "name": "stdout",
     "output_type": "stream",
     "text": [
      "Tu índice de masa corporal es: 18.94 clasificación Peso normal\n"
     ]
    }
   ],
   "source": [
    "def Cálculo_IMC(): \n",
    "    Peso = float(input(\"¿Cuál es tu peso en kg? (Números decimales separados por punto) \"))\n",
    "    Altura =float(input(\"¿Cuál es tu altura en metros? (Números decimales separados por punto) \"))\n",
    "\n",
    "    IMC=  Peso/ Altura **2\n",
    "\n",
    "    if IMC < 18.5:\n",
    "        categoría = \"Bajo peso\"\n",
    "    elif IMC < 25:\n",
    "        categoría = \"Peso normal\"\n",
    "    elif IMC < 30:\n",
    "        categoría = \"Sobrepeso\"\n",
    "    else:\n",
    "        categoría = \"Obesidad\"\n",
    "\n",
    "    print(f'Tu índice de masa corporal es: {IMC:.2f} clasificación {categoría}')\n",
    "    \n",
    "Cálculo_IMC()"
   ]
  },
  {
   "cell_type": "markdown",
   "id": "f6a0cf4f",
   "metadata": {},
   "source": [
    "Nivell 1 - Exercici 2 SPR7 Convertidor de temperatures.\n",
    "\n",
    "Existeixen diverses unitats de temperatura utilitzades en diferents contextos i regions. Les més comunes són Celsius (°C), Fahrenheit (°F) i Kelvin (K). També existeixen altres unitats com Rankine (°Ra) i Réaumur (°Re). Selecciona almenys 2 conversors, de tal manera que en introduir una temperatura retorni, com a mínim, dues conversions.\n",
    "\n",
    "T (° F) = T (° C) × 9/5 + 32     o    T (° F) = T (° C) × 1.8 + 32\n",
    "K = ° C + 273,15                 o    ° C = K – 273,15\n",
    "T(K) = (T(°F) + 459.67) × 5/9"
   ]
  },
  {
   "cell_type": "code",
   "execution_count": 5,
   "id": "7f9484d1",
   "metadata": {},
   "outputs": [
    {
     "name": "stdout",
     "output_type": "stream",
     "text": [
      "Si la temperatura es 30.00°C, en Fahrenheit es 86.00°F y, en Kelvin es 303.15K\n"
     ]
    }
   ],
   "source": [
    "def Convertidor_desde_Celsius():\n",
    "    Celsius = float(input(\"¿Cuál es la temperatura en °C? \"))\n",
    "    \n",
    "    Farenheit = Celsius * 9/5 +32\n",
    "    Kelvin = float(Celsius + 273.15)\n",
    "\n",
    "    print(f'Si la temperatura es {Celsius:.2f}°C, en Fahrenheit es {Farenheit:.2f}°F y, en Kelvin es {Kelvin}K')\n",
    "                                                                                                                                                                          \n",
    "Convertidor_desde_Celsius()                                                                     "
   ]
  },
  {
   "cell_type": "code",
   "execution_count": 6,
   "id": "b47a1567",
   "metadata": {},
   "outputs": [
    {
     "name": "stdout",
     "output_type": "stream",
     "text": [
      "Si la temperatura es 86.00°F, en Fahrenheit es  30.00°C y, en Kelvin es 303.15K\n"
     ]
    }
   ],
   "source": [
    "def Convertidor_desde_Farenheit():\n",
    "    Farenheit = float(input(\"¿Cuál es la temperatura en °F? \"))\n",
    "    \n",
    "    Celsius =  (Farenheit-32)/1.8\n",
    "    kelvin = (Farenheit +459.67) * 5/9\n",
    "    \n",
    "    print(f'Si la temperatura es {Farenheit:.2f}°F, en Fahrenheit es  {Celsius:.2f}°C y, en Kelvin es {kelvin:.2f}K')\n",
    "                                                                                                                                                                          \n",
    "Convertidor_desde_Farenheit()  "
   ]
  },
  {
   "cell_type": "markdown",
   "id": "16d0e7f8",
   "metadata": {},
   "source": [
    "Nivell 1 - Exercici 3 SPR7 Comptador de paraules d'un text.\n",
    "\n",
    "Escriu una funció que donat un text, mostri les vegades que apareix cada paraula."
   ]
  },
  {
   "cell_type": "code",
   "execution_count": 7,
   "id": "4fcad4c1",
   "metadata": {},
   "outputs": [
    {
     "name": "stdout",
     "output_type": "stream",
     "text": [
      "Tus estudios son Análisis de Datos y Análisis estadístico y el número de palabras de esta respuesta es: 6\n"
     ]
    }
   ],
   "source": [
    "def contador_palabras():\n",
    "\n",
    "    Pregunta = input(\"¿Qué has estudiado? \")\n",
    "\n",
    "    Palabras = Pregunta.split()\n",
    "    número_de_palabras = len(Palabras)\n",
    "\n",
    "    print(f\"Tus estudios son {Pregunta} y el número de palabras de esta respuesta es: {número_de_palabras}\")\n",
    "\n",
    "contador_palabras()"
   ]
  },
  {
   "cell_type": "code",
   "execution_count": 17,
   "id": "499cd875",
   "metadata": {},
   "outputs": [
    {
     "name": "stdout",
     "output_type": "stream",
     "text": [
      "Tus estudios son Mates y mates y el número de palabras no repetidas de esta respuesta es: 2\n"
     ]
    }
   ],
   "source": [
    "def contador_palabras():\n",
    "\n",
    "    Pregunta = input(\"¿Qué has estudiado? \")\n",
    "\n",
    "    Palabras = Pregunta.lower().split()\n",
    "    Cuántas_palabras = len(Palabras)  ##**\n",
    "    número_de_palabras = 0\n",
    "    Lista=[Palabras]\n",
    "    Dicc_resultado= {}\n",
    "\n",
    "    for i in set(Palabras):\n",
    "        if i != Palabras:\n",
    "            número_de_palabras = número_de_palabras+1\n",
    "        else:\n",
    "            número_de_palabras = número_de_palabras+0\n",
    "\n",
    "    print(f\"Tus estudios son {Pregunta} y el número de palabras no repetidas de esta respuesta es: {número_de_palabras}\")      \n",
    "  \n",
    "contador_palabras()"
   ]
  },
  {
   "cell_type": "code",
   "execution_count": 6,
   "id": "11e3ead9-0866-4470-9242-8d89510e5ac9",
   "metadata": {},
   "outputs": [
    {
     "name": "stdout",
     "output_type": "stream",
     "text": [
      "\n",
      "Tus estudios son: Mates y mates 2\n",
      "Número total de palabras: 4\n",
      "Número de palabras únicas: 3\n",
      "\n",
      "Frecuencia de cada palabra:\n",
      "mates: 2\n",
      "y: 1\n",
      "2: 1\n",
      "{'mates': 2, 'y': 1, '2': 1}\n"
     ]
    }
   ],
   "source": [
    "def contador_palabras():\n",
    "    Pregunta = input(\"¿Qué has estudiado? \")\n",
    "    palabras = Pregunta.lower().split()\n",
    "    dicc_resultado = {}  \n",
    "\n",
    "    for i in palabras:\n",
    "        if i in dicc_resultado:\n",
    "            dicc_resultado[i] += 1\n",
    "        else:\n",
    "            dicc_resultado[i] = 1\n",
    "\n",
    "    print(\"\\nTus estudios son:\", Pregunta)\n",
    "    print(\"Número total de palabras:\", len(palabras))\n",
    "    print(\"Número de palabras únicas:\", len(dicc_resultado))\n",
    "    print(\"\\nFrecuencia de cada palabra:\")\n",
    "    \n",
    "    for i, frecuencia in dicc_resultado.items():\n",
    "        print(f\"{i}: {frecuencia}\")\n",
    "\n",
    "    print (dicc_resultado)\n",
    "\n",
    "contador_palabras()"
   ]
  },
  {
   "cell_type": "code",
   "execution_count": 10,
   "id": "0fe0a087",
   "metadata": {},
   "outputs": [
    {
     "name": "stdout",
     "output_type": "stream",
     "text": [
      "\n",
      "Tus estudios son: Mates y mates 2\n",
      "Número total de palabras: 4\n",
      "Número de palabras únicas: 3\n",
      "\n",
      "Frecuencia de cada palabra:\n",
      "mates: 2\n",
      "y: 1\n",
      "2: 1\n",
      "{'mates': 2, 'y': 1, '2': 1}\n"
     ]
    }
   ],
   "source": [
    "def contador_palabras():\n",
    "    Pregunta = input(\"¿Qué has estudiado? \")\n",
    "    palabras = Pregunta.lower().split()\n",
    "    dicc_resultado = {}  \n",
    "\n",
    "    for i in palabras:\n",
    "        if i in dicc_resultado:\n",
    "            dicc_resultado[i] += 1\n",
    "        else:\n",
    "            dicc_resultado[i] = 1\n",
    "\n",
    "    print(\"\\nTus estudios son:\", Pregunta)\n",
    "    print(\"Número total de palabras:\", len(palabras))\n",
    "    print(\"Número de palabras únicas:\", len(dicc_resultado))\n",
    "    print(\"\\nFrecuencia de cada palabra:\")\n",
    "    \n",
    "    for i, frecuencia in dicc_resultado.items():\n",
    "        print(f\"{i}: {frecuencia}\")\n",
    "\n",
    "    print (dicc_resultado)\n",
    "\n",
    "contador_palabras()"
   ]
  },
  {
   "cell_type": "markdown",
   "id": "34919969",
   "metadata": {},
   "source": [
    " if letra in valores.keys():\n",
    "    Dicc_resultado[input(0)]\n",
    "    Dicc_resultado.items[values]= i\n",
    "    Dicc_resultado.items[key]= número_de_palabras\n",
    "\n",
    "    my_diccionario = {'a': 1, 'b': 2}\n",
    "my_diccionario['c'] = 3\n",
    "print(Lista)"
   ]
  },
  {
   "cell_type": "markdown",
   "id": "d8477604",
   "metadata": {},
   "source": [
    "Nivell 1 - Exercici 4 SPR7 Comptador de paraules d'un text.\n",
    "Diccionari invers.\n",
    "\n",
    "Resulta que el client té una enquesta molt antiga que s'emmagatzema en un diccionari i els resultats els necessita al revés, és a dir, intercanviats les claus i els valors. Els valors i claus en el diccionari original són únics; si aquest no és el cas, la funció hauria d'imprimir un missatge d'advertiment.\n",
    "\n",
    "    reverse_dictionary({'a':1,'b':2,'c':3})\n",
    "{1:'a',2:'b',3:'c'}\n",
    "\n",
    "    reverse_dictionary({'x':apple,'y':banana,'z':banana})\n",
    "Error: Multiples Keys for one value"
   ]
  },
  {
   "cell_type": "code",
   "execution_count": 11,
   "id": "6a0e67d9",
   "metadata": {},
   "outputs": [
    {
     "data": {
      "text/plain": [
       "{'España': 'Pregunta 1', '0': 'Pregunta 2', 'RRHH': 'Pregunta 3'}"
      ]
     },
     "execution_count": 11,
     "metadata": {},
     "output_type": "execute_result"
    }
   ],
   "source": [
    "def dicc_inverso_encuesta():\n",
    "    \n",
    "    Encuesta1= input(\"¿De qué país eres?\").strip()\n",
    "    Encuesta2= input(\"¿Qué edad tienes?\").strip()\n",
    "    Encuesta3= input(\"¿A qué te dedicas?\").strip()\n",
    "\n",
    "    Diccionario = {'Pregunta 1': Encuesta1, 'Pregunta 2': Encuesta2, 'Pregunta 3': Encuesta3} \n",
    "\n",
    "    Dicc_inverso= { value: key for key, value in Diccionario.items() }\n",
    "    return Dicc_inverso\n",
    "\n",
    "dicc_inverso_encuesta()"
   ]
  },
  {
   "cell_type": "markdown",
   "id": "6a234295",
   "metadata": {},
   "source": [
    "Nivell 2 SPRINT 7 Exercici 1 Diccionari invers amb duplicats\n",
    "\n",
    "Continuant amb l'exercici 4 del nivell 1: El client es va oblidar de comentar un detall i resulta que els valors en el diccionari original poden duplicar-se i més, per la qual cosa les claus intercanviades poden tenir duplicats. En aquest cas, en l'exercici anterior imprimies un missatge d'advertiment, ara, els valors del diccionari resultant hauran d'emmagatzemar-se com una llista. Tingues en compte que si és un valor únic no ha de ser una llista."
   ]
  },
  {
   "cell_type": "code",
   "execution_count": 2,
   "id": "db81d12f",
   "metadata": {},
   "outputs": [
    {
     "data": {
      "text/plain": [
       "{'España': 'Pregunta 1', '2': 'Pregunta 2', 'RRHH': 'Pregunta 3'}"
      ]
     },
     "execution_count": 2,
     "metadata": {},
     "output_type": "execute_result"
    }
   ],
   "source": [
    "def dicc_inverso_encuesta():\n",
    "    \n",
    "    Encuesta1= input(\"¿De qué país eres?\").strip()\n",
    "    Encuesta2= input(\"¿Qué edad tienes?\").strip()\n",
    "    Encuesta3= input(\"¿A qué te dedicas?\").strip()\n",
    "\n",
    "    if Encuesta1 == Encuesta2:\n",
    "        print(\"Advertencia: No se puede hacer el diccionario con todas las preguntas porque hay claves repetidas al haber respuestas repetidas. Las respuestas uno y dos son iguales\")\n",
    "    elif Encuesta1 == Encuesta3:\n",
    "        print(\"Advertencia: No se puede hacer el diccionario con todas las preguntasporque hay claves repetidas al haber respuestas repetidas. Las respuestas uno y tres son iguales\")\n",
    "    elif Encuesta2 == Encuesta3:\n",
    "        print(\"Advertencia: No se puede hacer el diccionario con todas las preguntas porque hay claves repetidas al haber respuestas repetidas. Las respuestas dos y tres son iguales\")\n",
    "    else: pass\n",
    "\n",
    "    Diccionario = {'Pregunta 1': Encuesta1, 'Pregunta 2': Encuesta2, 'Pregunta 3': Encuesta3} \n",
    "\n",
    "    Dicc_inverso= { value: key for key, value in Diccionario.items() }\n",
    "    return Dicc_inverso\n",
    "\n",
    "dicc_inverso_encuesta()"
   ]
  },
  {
   "cell_type": "markdown",
   "id": "f6622d4d",
   "metadata": {},
   "source": [
    "Nivell 2 SPRINT 7 Exercici 2. Conversió de tipus de dades\n",
    "\n",
    "El client rep una llista de dades i necessita generar dues llistes, la primera on estaran tots els elements que es van poder convertir en flotants i l'altra on estan els elements que no es van poder convertir. Exemple de la llista que rep el client: [ '1.3', 'one' , '1e10' , 'seven', '3-1/2', ('2',1,1.4,'not-a-number'), [1,2,'3','3.4']]"
   ]
  },
  {
   "cell_type": "code",
   "execution_count": 75,
   "id": "c94465a2",
   "metadata": {},
   "outputs": [
    {
     "name": "stdout",
     "output_type": "stream",
     "text": [
      "\n",
      "La llista amb paraules és:  ['pera', 'banana', 2.1]\n",
      "\n",
      "La llista amb decimals és: "
     ]
    },
    {
     "data": {
      "text/plain": [
       "[13.0, 26.0]"
      ]
     },
     "execution_count": 75,
     "metadata": {},
     "output_type": "execute_result"
    }
   ],
   "source": [
    "def llista_de_dades():\n",
    "\n",
    "    dadesrebudes= ['pera', 'banana', 13, 2.1, 26]\n",
    "\n",
    "    llistafloat= []\n",
    "    llistaparaules= []\n",
    "\n",
    "    for i in dadesrebudes:\n",
    "        if type(i) == int:\n",
    "            llistafloat.append(i)\n",
    "        else:\n",
    "            llistaparaules.append(i)\n",
    "\n",
    "    print(\"\\nLa llista amb paraules és: \", llistaparaules) \n",
    "    print(\"\\nLa llista amb decimals és: \", end=\"\") \n",
    "    return [float(i) for i in llistafloat]\n",
    "        \n",
    "llista_de_dades()\n",
    "    "
   ]
  },
  {
   "cell_type": "markdown",
   "id": "c4e0823d",
   "metadata": {},
   "source": [
    "Nivell 3 SPRINT 7 Exercici 1. Nivell 3 Exercici 1\n",
    "Comptador i endreçador de paraules d'un text.\n",
    "\n",
    "El client va quedar content amb el comptador de paraules, però ara vol llegir arxius TXT i que calculi la freqüència de cada paraula ordenades dins de les entrades habituals del diccionari segons la lletra amb la qual comencen, és a dir, les claus han d'anar de la A a la Z i dins de la A hem d'anar de la A la Z. Per exemple, per a l'arxiu \"tu_me_quieres_blanca.txt\" la sortida esperada seria:"
   ]
  },
  {
   "cell_type": "code",
   "execution_count": 131,
   "id": "c58284bb",
   "metadata": {},
   "outputs": [
    {
     "name": "stdout",
     "output_type": "stream",
     "text": [
      "Tú me quieres alba,\n",
      "me quieres de espumas,\n",
      "me quieres de nácar.\n",
      "Que sea azucena\n",
      "Sobre todas, casta.\n",
      "De perfume tenue.\n",
      "Corola cerrada .\n",
      "\n",
      "Ni un rayo de luna\n",
      "filtrado me haya.\n",
      "Ni una margarita\n",
      "se diga mi hermana.\n",
      "Tú me quieres nívea,\n",
      "tú me quieres blanca,\n",
      "tú me quieres alba.\n",
      "\n",
      "Tú que hubiste todas\n",
      "las copas a mano,\n",
      "de frutos y mieles\n",
      "los labios morados.\n",
      "Tú que en el banquete\n",
      "cubierto de pámpanos\n",
      "dejaste las carnes\n",
      "festejando a Baco.\n",
      "Tú que en los jardines\n",
      "negros del Engaño\n",
      "vestido de rojo\n",
      "corriste al Estrago.\n",
      "\n",
      "Tú que el esqueleto\n",
      "conservas intacto\n",
      "no sé todavía\n",
      "por cuáles milagros,\n",
      "me pretendes blanca\n",
      "(Dios te lo perdone),\n",
      "me pretendes casta\n",
      "(Dios te lo perdone),\n",
      "¡me pretendes alba!\n",
      "\n",
      "Huye hacia los bosques,\n",
      "vete a la montaña;\n",
      "límpiate la boca;\n",
      "vive en las cabañas;\n",
      "toca con las manos\n",
      "la tierra mojada;\n",
      "alimenta el cuerpo\n",
      "con raíz amarga;\n",
      "bebe de las rocas;\n",
      "duerme sobre escarcha;\n",
      "renueva tejidos\n",
      "con salitre y agua:\n",
      "\n",
      "Habla con los pájaros\n",
      "y lévate al alba.\n",
      "Y cuando las carnes\n",
      "te sean tornadas,\n",
      "y cuando hayas puesto\n",
      "en ellas el alma\n",
      "que por las alcobas\n",
      "se quedó enredada,\n",
      "entonces, buen hombre,\n",
      "preténdeme blanca,\n",
      "preténdeme nívea,\n",
      "preténdeme casta.\n",
      "Número total de palabras: 203\n",
      "Número de palabras únicas: 125\n",
      "\n",
      "Frecuencia de cada palabra:\n",
      "tú: 8\n",
      "me: 9\n",
      "quieres: 6\n",
      "alba,: 1\n",
      "de: 8\n",
      "espumas,: 1\n",
      "nácar.: 1\n",
      "que: 6\n",
      "sea: 1\n",
      "azucena: 1\n",
      "sobre: 2\n",
      "todas,: 1\n",
      "casta.: 2\n",
      "perfume: 1\n",
      "tenue.: 1\n",
      "corola: 1\n",
      "cerrada: 1\n",
      ".: 1\n",
      "ni: 2\n",
      "un: 1\n",
      "rayo: 1\n",
      "luna: 1\n",
      "filtrado: 1\n",
      "haya.: 1\n",
      "una: 1\n",
      "margarita: 1\n",
      "se: 2\n",
      "diga: 1\n",
      "mi: 1\n",
      "hermana.: 1\n",
      "nívea,: 2\n",
      "blanca,: 2\n",
      "alba.: 2\n",
      "hubiste: 1\n",
      "todas: 1\n",
      "las: 7\n",
      "copas: 1\n",
      "a: 3\n",
      "mano,: 1\n",
      "frutos: 1\n",
      "y: 5\n",
      "mieles: 1\n",
      "los: 4\n",
      "labios: 1\n",
      "morados.: 1\n",
      "en: 4\n",
      "el: 4\n",
      "banquete: 1\n",
      "cubierto: 1\n",
      "pámpanos: 1\n",
      "dejaste: 1\n",
      "carnes: 2\n",
      "festejando: 1\n",
      "baco.: 1\n",
      "jardines: 1\n",
      "negros: 1\n",
      "del: 1\n",
      "engaño: 1\n",
      "vestido: 1\n",
      "rojo: 1\n",
      "corriste: 1\n",
      "al: 2\n",
      "estrago.: 1\n",
      "esqueleto: 1\n",
      "conservas: 1\n",
      "intacto: 1\n",
      "no: 1\n",
      "sé: 1\n",
      "todavía: 1\n",
      "por: 2\n",
      "cuáles: 1\n",
      "milagros,: 1\n",
      "pretendes: 3\n",
      "blanca: 1\n",
      "(dios: 2\n",
      "te: 3\n",
      "lo: 2\n",
      "perdone),: 2\n",
      "casta: 1\n",
      "¡me: 1\n",
      "alba!: 1\n",
      "huye: 1\n",
      "hacia: 1\n",
      "bosques,: 1\n",
      "vete: 1\n",
      "la: 3\n",
      "montaña;: 1\n",
      "límpiate: 1\n",
      "boca;: 1\n",
      "vive: 1\n",
      "cabañas;: 1\n",
      "toca: 1\n",
      "con: 4\n",
      "manos: 1\n",
      "tierra: 1\n",
      "mojada;: 1\n",
      "alimenta: 1\n",
      "cuerpo: 1\n",
      "raíz: 1\n",
      "amarga;: 1\n",
      "bebe: 1\n",
      "rocas;: 1\n",
      "duerme: 1\n",
      "escarcha;: 1\n",
      "renueva: 1\n",
      "tejidos: 1\n",
      "salitre: 1\n",
      "agua:: 1\n",
      "habla: 1\n",
      "pájaros: 1\n",
      "lévate: 1\n",
      "cuando: 2\n",
      "sean: 1\n",
      "tornadas,: 1\n",
      "hayas: 1\n",
      "puesto: 1\n",
      "ellas: 1\n",
      "alma: 1\n",
      "alcobas: 1\n",
      "quedó: 1\n",
      "enredada,: 1\n",
      "entonces,: 1\n",
      "buen: 1\n",
      "hombre,: 1\n",
      "preténdeme: 3\n",
      "{'tú': 8, 'me': 9, 'quieres': 6, 'alba,': 1, 'de': 8, 'espumas,': 1, 'nácar.': 1, 'que': 6, 'sea': 1, 'azucena': 1, 'sobre': 2, 'todas,': 1, 'casta.': 2, 'perfume': 1, 'tenue.': 1, 'corola': 1, 'cerrada': 1, '.': 1, 'ni': 2, 'un': 1, 'rayo': 1, 'luna': 1, 'filtrado': 1, 'haya.': 1, 'una': 1, 'margarita': 1, 'se': 2, 'diga': 1, 'mi': 1, 'hermana.': 1, 'nívea,': 2, 'blanca,': 2, 'alba.': 2, 'hubiste': 1, 'todas': 1, 'las': 7, 'copas': 1, 'a': 3, 'mano,': 1, 'frutos': 1, 'y': 5, 'mieles': 1, 'los': 4, 'labios': 1, 'morados.': 1, 'en': 4, 'el': 4, 'banquete': 1, 'cubierto': 1, 'pámpanos': 1, 'dejaste': 1, 'carnes': 2, 'festejando': 1, 'baco.': 1, 'jardines': 1, 'negros': 1, 'del': 1, 'engaño': 1, 'vestido': 1, 'rojo': 1, 'corriste': 1, 'al': 2, 'estrago.': 1, 'esqueleto': 1, 'conservas': 1, 'intacto': 1, 'no': 1, 'sé': 1, 'todavía': 1, 'por': 2, 'cuáles': 1, 'milagros,': 1, 'pretendes': 3, 'blanca': 1, '(dios': 2, 'te': 3, 'lo': 2, 'perdone),': 2, 'casta': 1, '¡me': 1, 'alba!': 1, 'huye': 1, 'hacia': 1, 'bosques,': 1, 'vete': 1, 'la': 3, 'montaña;': 1, 'límpiate': 1, 'boca;': 1, 'vive': 1, 'cabañas;': 1, 'toca': 1, 'con': 4, 'manos': 1, 'tierra': 1, 'mojada;': 1, 'alimenta': 1, 'cuerpo': 1, 'raíz': 1, 'amarga;': 1, 'bebe': 1, 'rocas;': 1, 'duerme': 1, 'escarcha;': 1, 'renueva': 1, 'tejidos': 1, 'salitre': 1, 'agua:': 1, 'habla': 1, 'pájaros': 1, 'lévate': 1, 'cuando': 2, 'sean': 1, 'tornadas,': 1, 'hayas': 1, 'puesto': 1, 'ellas': 1, 'alma': 1, 'alcobas': 1, 'quedó': 1, 'enredada,': 1, 'entonces,': 1, 'buen': 1, 'hombre,': 1, 'preténdeme': 3}\n"
     ]
    }
   ],
   "source": [
    "def contador_archivo():\n",
    "    \n",
    "    try:\n",
    "        with open('tu_me_quieres_blanca.txt', 'r', encoding='utf-8') as archivo:\n",
    "            contenido = archivo.read()\n",
    "            print(contenido)\n",
    "\n",
    "    except FileNotFoundError:\n",
    "        print(\"El archivo no se encontró.\")\n",
    "    \n",
    "     \n",
    "    palabras_archivo = contenido.lower().split()\n",
    "    dicc_resultado = {}  \n",
    "\n",
    "    for i in palabras_archivo:\n",
    "        if i in dicc_resultado:\n",
    "            dicc_resultado[i] += 1\n",
    "        else:\n",
    "            dicc_resultado[i] = 1\n",
    "\n",
    "    print(\"Número total de palabras:\", len(palabras_archivo))\n",
    "    print(\"Número de palabras únicas:\", len(dicc_resultado))\n",
    "    print(\"\\nFrecuencia de cada palabra:\")\n",
    "    \n",
    "    for i, frecuencia in dicc_resultado.items():\n",
    "        print(f\"{i}: {frecuencia}\")\n",
    "\n",
    "    print (dicc_resultado)    \n",
    "\n",
    "contador_archivo()"
   ]
  }
 ],
 "metadata": {
  "kernelspec": {
   "display_name": "Python 3",
   "language": "python",
   "name": "python3"
  },
  "language_info": {
   "codemirror_mode": {
    "name": "ipython",
    "version": 3
   },
   "file_extension": ".py",
   "mimetype": "text/x-python",
   "name": "python",
   "nbconvert_exporter": "python",
   "pygments_lexer": "ipython3",
   "version": "3.11.9"
  }
 },
 "nbformat": 4,
 "nbformat_minor": 5
}
